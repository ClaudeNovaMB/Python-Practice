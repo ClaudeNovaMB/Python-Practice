{
 "cells": [
  {
   "cell_type": "markdown",
   "metadata": {},
   "source": [
    "# Scope in Python"
   ]
  },
  {
   "cell_type": "markdown",
   "metadata": {},
   "source": [
    "Scope is whether anything is inside of another object. It is normally shown with indenting. Let's look at a few examples:"
   ]
  },
  {
   "cell_type": "markdown",
   "metadata": {},
   "source": [
    "**A Function:**"
   ]
  },
  {
   "cell_type": "code",
   "execution_count": 25,
   "metadata": {},
   "outputs": [],
   "source": [
    "def function():\n",
    "    x = 9"
   ]
  },
  {
   "cell_type": "markdown",
   "metadata": {},
   "source": [
    "As you can see, our variable `x` is defined insideour function. So it is in the scope of our function. You can also tell this by looking at the indent; this can be very helpful."
   ]
  },
  {
   "cell_type": "markdown",
   "metadata": {},
   "source": [
    "**Now let's look at a Class:**"
   ]
  },
  {
   "cell_type": "code",
   "execution_count": 26,
   "metadata": {},
   "outputs": [],
   "source": [
    "class SampleClass:\n",
    "     def __init__(self, sample_attribute):\n",
    "            self.sample_attribute = sample_attribute\n",
    "    \n",
    "     def sampleMethod(self):\n",
    "            return \"This method is in the scope of the SampleClass!\""
   ]
  },
  {
   "cell_type": "markdown",
   "metadata": {},
   "source": [
    "Now you can see that the methods: `__init__()` and `sampleMethod()` are in scope of the `SampleClass`, but the atrribute `sample_attribute` is still in scope of the whole class, even if it's in the `__init__()` method. This is because an attribute is available to the whole class. Our attribute is **local** to the whole class."
   ]
  },
  {
   "cell_type": "code",
   "execution_count": 28,
   "metadata": {},
   "outputs": [
    {
     "data": {
      "text/plain": [
       "'This is a normal variable'"
      ]
     },
     "execution_count": 28,
     "metadata": {},
     "output_type": "execute_result"
    }
   ],
   "source": [
    "x = \"This is a normal variable\"\n",
    "\n",
    "def sample(x):\n",
    "    return x\n",
    "\n",
    "sample(x) "
   ]
  },
  {
   "cell_type": "markdown",
   "metadata": {},
   "source": [
    "This output is still returning `'This is a normal variable'` even if it is not in the scope of our `sample()` function. This is because it is the only variable."
   ]
  },
  {
   "cell_type": "markdown",
   "metadata": {},
   "source": [
    "But what if we have two of the same variables but in different scopes?"
   ]
  },
  {
   "cell_type": "markdown",
   "metadata": {},
   "source": [
    "Let's look at some examples of this:"
   ]
  },
  {
   "cell_type": "code",
   "execution_count": 29,
   "metadata": {},
   "outputs": [
    {
     "data": {
      "text/plain": [
       "'This variable is inside the sample() function!'"
      ]
     },
     "execution_count": 29,
     "metadata": {},
     "output_type": "execute_result"
    }
   ],
   "source": [
    "x = \"This is a global variable\"\n",
    "\n",
    "def sample(x):\n",
    "    x = \"This variable is inside the sample() function!\"\n",
    "    return x\n",
    "\n",
    "sample(x)"
   ]
  },
  {
   "cell_type": "markdown",
   "metadata": {},
   "source": [
    "Now you can see that our function is printing out `'This variable is in the sample() function!'`. This is because our Python Interpreter looks at the local variable first(the variable that is in scope of the function that you are calling)."
   ]
  },
  {
   "cell_type": "markdown",
   "metadata": {},
   "source": [
    "## The `global` keyword "
   ]
  },
  {
   "cell_type": "markdown",
   "metadata": {},
   "source": [
    "The `global` keyword comes in handy a lot if you are trying to make clear which variable you want to use if their are two variables with the same names but in different scopes."
   ]
  },
  {
   "cell_type": "markdown",
   "metadata": {},
   "source": [
    "Let's look at some examples:"
   ]
  },
  {
   "cell_type": "code",
   "execution_count": 30,
   "metadata": {},
   "outputs": [
    {
     "ename": "SyntaxError",
     "evalue": "invalid syntax (<ipython-input-30-6ac3897bd876>, line 4)",
     "output_type": "error",
     "traceback": [
      "\u001b[0;36m  File \u001b[0;32m\"<ipython-input-30-6ac3897bd876>\"\u001b[0;36m, line \u001b[0;32m4\u001b[0m\n\u001b[0;31m    global x = \"This variable is inside the sample() function!\"\u001b[0m\n\u001b[0m             ^\u001b[0m\n\u001b[0;31mSyntaxError\u001b[0m\u001b[0;31m:\u001b[0m invalid syntax\n"
     ]
    }
   ],
   "source": [
    "x = \"This is a global variable\"\n",
    "\n",
    "def sample(x):\n",
    "    global x = \"This variable is inside the sample() function!\"\n",
    "    return x\n",
    "\n",
    "sample(x)"
   ]
  },
  {
   "cell_type": "markdown",
   "metadata": {},
   "source": [
    "We got an error because our Python Intetpreer thinks that we are trying to reassign a global variable. This is not possible in Python. You can only edit the variable if you are in the same scopeas that variable. Let's try to return our global variable again:"
   ]
  },
  {
   "cell_type": "code",
   "execution_count": 32,
   "metadata": {},
   "outputs": [
    {
     "data": {
      "text/plain": [
       "6"
      ]
     },
     "execution_count": 32,
     "metadata": {},
     "output_type": "execute_result"
    }
   ],
   "source": [
    "a = 1\n",
    "b = 2\n",
    "c = 3\n",
    "\n",
    "def another_function():\n",
    "    global a\n",
    "    global b\n",
    "    global c\n",
    "    sum = a + b + c\n",
    "    return sum\n",
    "\n",
    "another_function()"
   ]
  },
  {
   "cell_type": "markdown",
   "metadata": {},
   "source": [
    "As you can see now, we got no error. We made it clear that we wanted to use the global variables that were outside the scope of our function by re-defining them with the `global` keyword."
   ]
  },
  {
   "cell_type": "markdown",
   "metadata": {},
   "source": [
    "What if we removed the `global` keyword?"
   ]
  },
  {
   "cell_type": "code",
   "execution_count": 33,
   "metadata": {},
   "outputs": [
    {
     "data": {
      "text/plain": [
       "6"
      ]
     },
     "execution_count": 33,
     "metadata": {},
     "output_type": "execute_result"
    }
   ],
   "source": [
    "def another_function():\n",
    "    a\n",
    "    b\n",
    "    c\n",
    "    sum = a + b + c\n",
    "    return sum\n",
    "\n",
    "another_function()"
   ]
  },
  {
   "cell_type": "markdown",
   "metadata": {},
   "source": [
    "Nothing happens because we have only defined `a`, `b` and `c` only once in the same scope. "
   ]
  },
  {
   "cell_type": "code",
   "execution_count": 34,
   "metadata": {},
   "outputs": [
    {
     "data": {
      "text/plain": [
       "15"
      ]
     },
     "execution_count": 34,
     "metadata": {},
     "output_type": "execute_result"
    }
   ],
   "source": [
    "a = 1\n",
    "b = 2\n",
    "c = 3\n",
    "\n",
    "def another_function():\n",
    "    global a\n",
    "    global b\n",
    "    global c\n",
    "    a = 4\n",
    "    b = 5\n",
    "    c = 6\n",
    "    sum = a + b + c\n",
    "    return sum\n",
    "\n",
    "another_function()"
   ]
  },
  {
   "cell_type": "markdown",
   "metadata": {},
   "source": [
    "It returned 15; the sum of the local variables. Always remember that our Python Interpreter will calculate the sum of the local variables first. So either put in all global variables or all local variables."
   ]
  },
  {
   "cell_type": "markdown",
   "metadata": {},
   "source": [
    "**Great! Now you should have an understanding of what scope is in Python!**"
   ]
  }
 ],
 "metadata": {
  "kernelspec": {
   "display_name": "Python 3",
   "language": "python",
   "name": "python3"
  },
  "language_info": {
   "codemirror_mode": {
    "name": "ipython",
    "version": 3
   },
   "file_extension": ".py",
   "mimetype": "text/x-python",
   "name": "python",
   "nbconvert_exporter": "python",
   "pygments_lexer": "ipython3",
   "version": "3.7.6"
  }
 },
 "nbformat": 4,
 "nbformat_minor": 4
}
